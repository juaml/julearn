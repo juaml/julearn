{
 "metadata": {
  "language_info": {
   "codemirror_mode": {
    "name": "ipython",
    "version": 3
   },
   "file_extension": ".py",
   "mimetype": "text/x-python",
   "name": "python",
   "nbconvert_exporter": "python",
   "pygments_lexer": "ipython3",
   "version": "3.7.3-final"
  },
  "orig_nbformat": 2,
  "kernelspec": {
   "name": "Python 3.7.3 64-bit ('venv')",
   "display_name": "Python 3.7.3 64-bit ('venv')",
   "metadata": {
    "interpreter": {
     "hash": "fe8458e281b9e8d1d4deaaff22eccc5cb09510fee0d78b80a4aa55a7228f2a54"
    }
   }
  }
 },
 "nbformat": 4,
 "nbformat_minor": 2,
 "cells": [
  {
   "cell_type": "code",
   "execution_count": 1,
   "metadata": {},
   "outputs": [
    {
     "output_type": "execute_result",
     "data": {
      "text/plain": [
       "   sepal_length  sepal_width  petal_length  petal_width species\n",
       "0           5.1          3.5           1.4          0.2  setosa\n",
       "1           4.9          3.0           1.4          0.2  setosa\n",
       "2           4.7          3.2           1.3          0.2  setosa\n",
       "3           4.6          3.1           1.5          0.2  setosa\n",
       "4           5.0          3.6           1.4          0.2  setosa"
      ],
      "text/html": "<div>\n<style scoped>\n    .dataframe tbody tr th:only-of-type {\n        vertical-align: middle;\n    }\n\n    .dataframe tbody tr th {\n        vertical-align: top;\n    }\n\n    .dataframe thead th {\n        text-align: right;\n    }\n</style>\n<table border=\"1\" class=\"dataframe\">\n  <thead>\n    <tr style=\"text-align: right;\">\n      <th></th>\n      <th>sepal_length</th>\n      <th>sepal_width</th>\n      <th>petal_length</th>\n      <th>petal_width</th>\n      <th>species</th>\n    </tr>\n  </thead>\n  <tbody>\n    <tr>\n      <th>0</th>\n      <td>5.1</td>\n      <td>3.5</td>\n      <td>1.4</td>\n      <td>0.2</td>\n      <td>setosa</td>\n    </tr>\n    <tr>\n      <th>1</th>\n      <td>4.9</td>\n      <td>3.0</td>\n      <td>1.4</td>\n      <td>0.2</td>\n      <td>setosa</td>\n    </tr>\n    <tr>\n      <th>2</th>\n      <td>4.7</td>\n      <td>3.2</td>\n      <td>1.3</td>\n      <td>0.2</td>\n      <td>setosa</td>\n    </tr>\n    <tr>\n      <th>3</th>\n      <td>4.6</td>\n      <td>3.1</td>\n      <td>1.5</td>\n      <td>0.2</td>\n      <td>setosa</td>\n    </tr>\n    <tr>\n      <th>4</th>\n      <td>5.0</td>\n      <td>3.6</td>\n      <td>1.4</td>\n      <td>0.2</td>\n      <td>setosa</td>\n    </tr>\n  </tbody>\n</table>\n</div>"
     },
     "metadata": {},
     "execution_count": 1
    }
   ],
   "source": [
    "from julearn import run_cross_validation\n",
    "from seaborn import load_dataset\n",
    "df_iris = load_dataset('iris')\n",
    "df_iris.head()"
   ]
  },
  {
   "cell_type": "code",
   "execution_count": 2,
   "metadata": {
    "tags": []
   },
   "outputs": [
    {
     "output_type": "execute_result",
     "data": {
      "text/plain": [
       "array([0.96666667, 0.93333333, 0.96666667, 0.96666667, 1.        ,\n",
       "       0.93333333, 0.96666667, 1.        , 0.96666667, 0.93333333,\n",
       "       0.93333333, 1.        , 0.9       , 1.        , 0.96666667,\n",
       "       0.93333333, 1.        , 0.96666667, 0.96666667, 0.96666667,\n",
       "       0.96666667, 0.96666667, 0.93333333, 1.        , 0.93333333])"
      ]
     },
     "metadata": {},
     "execution_count": 2
    }
   ],
   "source": [
    "# Multi Class Problem\n",
    "run_cross_validation(X=['sepal_length','sepal_width', 'petal_length'], \n",
    "                    y='species', confounds=['petal_width'],\n",
    "                    data=df_iris, \n",
    "                    model='svm',\n",
    "                    problem_type='multiclass_classification')"
   ]
  },
  {
   "cell_type": "code",
   "execution_count": 3,
   "metadata": {},
   "outputs": [
    {
     "output_type": "execute_result",
     "data": {
      "text/plain": [
       "array([1., 1., 1., 1., 1., 1., 1., 1., 1., 1., 1., 1., 1., 1., 1., 1., 1.,\n",
       "       1., 1., 1., 1., 1., 1., 1., 1.])"
      ]
     },
     "metadata": {},
     "execution_count": 3
    }
   ],
   "source": [
    "# Binary Problem\n",
    "run_cross_validation(X=['sepal_length', 'petal_length'], \n",
    "                    y='species', confounds=['petal_width', 'sepal_width'], \n",
    "                    data=df_iris.iloc[:100,:], \n",
    "                    model='svm',\n",
    "                    problem_type='binary_classification') # specified here"
   ]
  },
  {
   "source": [
    "# Adding transformers to the Pipeline:\n",
    "* Transform X/features\n",
    "    * Add a list of valid transformer names or Transformers to the preprocess_X argument\n",
    "\n",
    "* Transform y/target\n",
    "    * Currently, only support one transformer or valid transformer_name \n",
    "    * set preprocess_y to that transformer/transformer_name\n",
    "\n",
    "* Transform confounds\n",
    "    * same as features. Only, make sure to only use transformers which return the same features \n",
    "instead of creating new ones e.g. components etc."
   ],
   "cell_type": "markdown",
   "metadata": {}
  },
  {
   "cell_type": "code",
   "execution_count": 4,
   "metadata": {},
   "outputs": [
    {
     "output_type": "execute_result",
     "data": {
      "text/plain": [
       "array([1.        , 0.93333333, 0.9       , 0.93333333, 0.96666667,\n",
       "       0.93333333, 1.        , 0.96666667, 0.96666667, 0.9       ,\n",
       "       0.93333333, 0.96666667, 0.93333333, 0.9       , 1.        ,\n",
       "       0.96666667, 0.96666667, 0.93333333, 0.96666667, 0.96666667,\n",
       "       1.        , 0.9       , 0.9       , 0.93333333, 1.        ])"
      ]
     },
     "metadata": {},
     "execution_count": 4
    }
   ],
   "source": [
    "run_cross_validation(\n",
    "    X=['sepal_length', 'petal_length'], \n",
    "    y='species', confounds=['petal_width', 'sepal_width'],\n",
    "    data=df_iris, \n",
    "    model='svm',\n",
    "    preprocess_X = ['pca'],\n",
    "    preprocess_confounds=['zscore'],\n",
    "    problem_type='binary_classification')"
   ]
  },
  {
   "source": [
    "* If you want to use your own hyper parameters you can specify them like following:\n",
    "    - For the model use the `model_name`__parameter as in sklearn\n",
    "    - For transformers you can just add `features__`,`confounds__`, `target__` for \n",
    "    the feature_transfomers, confounds_transformers or target_transformer respectively"
   ],
   "cell_type": "markdown",
   "metadata": {}
  },
  {
   "cell_type": "code",
   "execution_count": 5,
   "metadata": {},
   "outputs": [
    {
     "output_type": "execute_result",
     "data": {
      "text/plain": [
       "array([0.9       , 0.96666667, 0.96666667, 0.96666667, 0.93333333,\n",
       "       0.93333333, 0.96666667, 0.96666667, 0.93333333, 0.93333333,\n",
       "       0.9       , 0.96666667, 0.93333333, 0.93333333, 1.        ,\n",
       "       0.86666667, 1.        , 1.        , 0.96666667, 0.93333333,\n",
       "       0.93333333, 0.96666667, 1.        , 0.93333333, 0.93333333])"
      ]
     },
     "metadata": {},
     "execution_count": 5
    }
   ],
   "source": [
    "hyper_parameters = {'svm__C': [0.1,.5], \n",
    "                    'features__zscore__with_mean': [False],\n",
    "                    'confounds__zscore__with_mean': [True, False]}\n",
    "\n",
    "run_cross_validation(X=['sepal_length','sepal_width', 'petal_length'], \n",
    "                    y='species', confounds=['petal_width'],\n",
    "                    data=df_iris, \n",
    "                    model='svm', problem_type='multiclass_classification', \n",
    "                    hyperparameters=hyper_parameters\n",
    "                    )"
   ]
  },
  {
   "source": [
    "# Using differn CV-Methods\n",
    "\n",
    "* by default the inner and outer cv use reated KFold cv \n",
    "    ** provide a string to change n_repeats and n_folds like this:\n",
    "        'repeat:5_nfolds:5' for 5 reapeats and 5 folds  \n",
    "        'repeat:20_nfolds:10' would mean 20 repeats and 10 folds \n",
    "        you can use 'same' for inner fold to let it be the same kind as outer\n",
    "* you can also provide any valid sklearn splitting method:\n",
    "    ** this includes just providing an int for the amount of folds \n",
    "    ** providing functions like skleanr.model_selection.LeaveOneOut()"
   ],
   "cell_type": "markdown",
   "metadata": {}
  },
  {
   "cell_type": "code",
   "execution_count": 6,
   "metadata": {},
   "outputs": [
    {
     "output_type": "execute_result",
     "data": {
      "text/plain": [
       "array([0.72, 0.66, 0.56, 0.72, 0.54, 0.56])"
      ]
     },
     "metadata": {},
     "execution_count": 6
    }
   ],
   "source": [
    "run_cross_validation(X=['sepal_length','sepal_width', 'petal_length'], \n",
    "                    y='species', confounds=['petal_width'], data=df_iris, \n",
    "                    model='svm', preprocess_X=['remove_confound', 'zscore'],\n",
    "                    problem_type='multiclass_classification', \n",
    "                    cv_evaluation='repeats:2_nfolds:3', cv_model_selection='same')"
   ]
  },
  {
   "cell_type": "code",
   "execution_count": 7,
   "metadata": {},
   "outputs": [
    {
     "output_type": "execute_result",
     "data": {
      "text/plain": [
       "array([1., 1., 1., 1., 1., 1., 1., 1., 0., 0., 1., 1., 0., 1., 1., 1., 1.,\n",
       "       1., 1., 1., 0., 1., 0., 1., 0., 0., 1., 1., 1., 1., 0., 1., 1., 1.,\n",
       "       1., 1., 1., 1., 1., 1., 1., 0., 1., 0., 1., 1., 1., 1., 1., 1., 0.,\n",
       "       0., 1., 1., 1., 1., 0., 1., 1., 0., 1., 0., 1., 1., 0., 1., 0., 1.,\n",
       "       1., 1., 0., 0., 1., 0., 1., 1., 1., 1., 0., 1., 1., 1., 1., 1., 0.,\n",
       "       0., 1., 1., 0., 1., 1., 1., 1., 1., 1., 1., 1., 1., 0., 1., 1., 0.,\n",
       "       0., 0., 0., 1., 1., 1., 0., 0., 0., 0., 0., 1., 1., 1., 0., 1., 0.,\n",
       "       0., 0., 1., 1., 0., 0., 1., 0., 0., 0., 1., 0., 1., 0., 0., 0., 0.,\n",
       "       1., 0., 0., 0., 1., 1., 0., 0., 1., 1., 0., 0., 1., 0.])"
      ]
     },
     "metadata": {},
     "execution_count": 7
    }
   ],
   "source": [
    "from sklearn.model_selection import LeaveOneOut, KFold\n",
    "run_cross_validation(X=['sepal_length','sepal_width', 'petal_length'], \n",
    "                    y='species', confounds=['petal_width'], data=df_iris, \n",
    "                    model='svm', preprocess_X=['remove_confound', 'zscore'],\n",
    "                    problem_type='multiclass_classification', \n",
    "                    cv_evaluation=LeaveOneOut(), cv_model_selection=KFold(n_splits=2))"
   ]
  },
  {
   "cell_type": "code",
   "execution_count": null,
   "metadata": {},
   "outputs": [],
   "source": []
  }
 ]
}