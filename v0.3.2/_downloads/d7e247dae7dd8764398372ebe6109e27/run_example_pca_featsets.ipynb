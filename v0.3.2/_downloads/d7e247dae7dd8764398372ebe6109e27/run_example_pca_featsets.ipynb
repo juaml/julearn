{
  "cells": [
    {
      "cell_type": "markdown",
      "metadata": {},
      "source": [
        "\n# Regression Analysis\n\nThis example uses the ``diabetes`` data from ``sklearn datasets`` and performs\na regression analysis using a Ridge Regression model. We'll use the\n``julearn.PipelineCreator`` to create a pipeline with two different PCA steps and\nreduce the dimensionality of the data, each one computed on a different\nsubset of features.\n"
      ]
    },
    {
      "cell_type": "code",
      "execution_count": null,
      "metadata": {
        "collapsed": false
      },
      "outputs": [],
      "source": [
        "# Authors: Georgios Antonopoulos <g.antonopoulos@fz-juelich.de>\n#          Kaustubh R. Patil <k.patil@fz-juelich.de>\n#          Shammi More <s.more@fz-juelich.de>\n#          Federico Raimondo <f.raimondo@fz-juelich.de>\n# License: AGPL\n\nimport pandas as pd\nimport seaborn as sns\nimport numpy as np\nimport matplotlib.pyplot as plt\nfrom sklearn.datasets import load_diabetes\nfrom sklearn.metrics import mean_absolute_error\nfrom sklearn.model_selection import train_test_split\n\nfrom julearn import run_cross_validation\nfrom julearn.utils import configure_logging\nfrom julearn.pipeline import PipelineCreator\nfrom julearn.inspect import preprocess"
      ]
    },
    {
      "cell_type": "markdown",
      "metadata": {},
      "source": [
        "Set the logging level to info to see extra information.\n\n"
      ]
    },
    {
      "cell_type": "code",
      "execution_count": null,
      "metadata": {
        "collapsed": false
      },
      "outputs": [],
      "source": [
        "configure_logging(level=\"INFO\")"
      ]
    },
    {
      "cell_type": "markdown",
      "metadata": {},
      "source": [
        "Load the diabetes data from ``sklearn`` as a ``pandas.DataFrame``.\n\n"
      ]
    },
    {
      "cell_type": "code",
      "execution_count": null,
      "metadata": {
        "collapsed": false
      },
      "outputs": [],
      "source": [
        "features, target = load_diabetes(return_X_y=True, as_frame=True)"
      ]
    },
    {
      "cell_type": "markdown",
      "metadata": {},
      "source": [
        "Dataset contains ten variables age, sex, body mass index, average  blood\npressure, and six blood serum measurements (s1-s6) diabetes patients and\na quantitative measure of disease progression one year after baseline which\nis the target we are interested in predicting.\n\n"
      ]
    },
    {
      "cell_type": "code",
      "execution_count": null,
      "metadata": {
        "collapsed": false
      },
      "outputs": [],
      "source": [
        "print(\"Features: \\n\", features.head())\nprint(\"Target: \\n\", target.describe())"
      ]
    },
    {
      "cell_type": "markdown",
      "metadata": {},
      "source": [
        "Let's combine features and target together in one dataframe and define X\nand y\n\n"
      ]
    },
    {
      "cell_type": "code",
      "execution_count": null,
      "metadata": {
        "collapsed": false
      },
      "outputs": [],
      "source": [
        "data_diabetes = pd.concat([features, target], axis=1)\n\nX = [\"age\", \"sex\", \"bmi\", \"bp\", \"s1\", \"s2\", \"s3\", \"s4\", \"s5\", \"s6\"]\ny = \"target\""
      ]
    },
    {
      "cell_type": "markdown",
      "metadata": {},
      "source": [
        "Assign types to the features and create feature groups for PCA.\nWe will keep 1 component per PCA group.\n\n"
      ]
    },
    {
      "cell_type": "code",
      "execution_count": null,
      "metadata": {
        "collapsed": false
      },
      "outputs": [],
      "source": [
        "X_types = {\n    \"pca1\": [\"age\", \"bmi\", \"bp\"],\n    \"pca2\": [\"s1\", \"s2\", \"s3\", \"s4\", \"s5\", \"s6\"],\n    \"categorical\": [\"sex\"],\n}"
      ]
    },
    {
      "cell_type": "markdown",
      "metadata": {},
      "source": [
        "Create a pipeline to process the data and the fit a model. We must specify\nhow each ``X_type`` will be used. For example if in the last step we do not\nspecify ``apply_to=[\"continuous\", \"categorical\"]``, then the pipeline will not\nknow what to do with the categorical features.\n\n"
      ]
    },
    {
      "cell_type": "code",
      "execution_count": null,
      "metadata": {
        "collapsed": false
      },
      "outputs": [],
      "source": [
        "creator = PipelineCreator(problem_type=\"regression\")\ncreator.add(\"pca\", apply_to=\"pca1\", n_components=1, name=\"pca_feats1\")\ncreator.add(\"pca\", apply_to=\"pca2\", n_components=1, name=\"pca_feats2\")\ncreator.add(\"ridge\", apply_to=[\"continuous\", \"categorical\"])"
      ]
    },
    {
      "cell_type": "markdown",
      "metadata": {},
      "source": [
        "Split the dataset into train and test.\n\n"
      ]
    },
    {
      "cell_type": "code",
      "execution_count": null,
      "metadata": {
        "collapsed": false
      },
      "outputs": [],
      "source": [
        "train_diabetes, test_diabetes = train_test_split(data_diabetes, test_size=0.3)"
      ]
    },
    {
      "cell_type": "markdown",
      "metadata": {},
      "source": [
        "Train a ridge regression model on train dataset and use mean absolute error\nfor scoring.\n\n"
      ]
    },
    {
      "cell_type": "code",
      "execution_count": null,
      "metadata": {
        "collapsed": false
      },
      "outputs": [],
      "source": [
        "scores, model = run_cross_validation(\n    X=X,\n    y=y,\n    X_types=X_types,\n    data=train_diabetes,\n    model=creator,\n    scoring=\"r2\",\n    return_estimator=\"final\",\n)"
      ]
    },
    {
      "cell_type": "markdown",
      "metadata": {},
      "source": [
        "The scores dataframe has all the values for each CV split.\n\n"
      ]
    },
    {
      "cell_type": "code",
      "execution_count": null,
      "metadata": {
        "collapsed": false
      },
      "outputs": [],
      "source": [
        "print(scores.head())"
      ]
    },
    {
      "cell_type": "markdown",
      "metadata": {},
      "source": [
        "Mean value of mean absolute error across CV.\n\n"
      ]
    },
    {
      "cell_type": "code",
      "execution_count": null,
      "metadata": {
        "collapsed": false
      },
      "outputs": [],
      "source": [
        "print(scores[\"test_score\"].mean())"
      ]
    },
    {
      "cell_type": "markdown",
      "metadata": {},
      "source": [
        "Let's see how the data looks like after preprocessing. We will process the\ndata until the first PCA step. We should get the first PCA component for\n[\"age\", \"bmi\", \"bp\"] and leave other features untouched.\n\n"
      ]
    },
    {
      "cell_type": "code",
      "execution_count": null,
      "metadata": {
        "collapsed": false
      },
      "outputs": [],
      "source": [
        "data_processed1 = preprocess(model, X, data=train_diabetes, until=\"pca_feats1\")\nprint(\"Data after preprocessing until PCA step 1\")\ndata_processed1.head()"
      ]
    },
    {
      "cell_type": "markdown",
      "metadata": {},
      "source": [
        "We will process the data until the second PCA step. We should now also get\none PCA component for [\"s1\", \"s2\", \"s3\", \"s4\", \"s5\", \"s6\"].\n\n"
      ]
    },
    {
      "cell_type": "code",
      "execution_count": null,
      "metadata": {
        "collapsed": false
      },
      "outputs": [],
      "source": [
        "data_processed2 = preprocess(model, X, data=train_diabetes, until=\"pca_feats2\")\nprint(\"Data after preprocessing until PCA step 2\")\ndata_processed2.head()"
      ]
    },
    {
      "cell_type": "markdown",
      "metadata": {},
      "source": [
        "Now we can get the MAE fold and repetition:\n\n"
      ]
    },
    {
      "cell_type": "code",
      "execution_count": null,
      "metadata": {
        "collapsed": false
      },
      "outputs": [],
      "source": [
        "df_mae = scores.set_index([\"repeat\", \"fold\"])[\"test_score\"].unstack() * -1\ndf_mae.index.name = \"Repeats\"\ndf_mae.columns.name = \"K-fold splits\"\n\nprint(df_mae)"
      ]
    },
    {
      "cell_type": "markdown",
      "metadata": {},
      "source": [
        "Plot heatmap of mean absolute error (MAE) over all repeats and CV splits.\n\n"
      ]
    },
    {
      "cell_type": "code",
      "execution_count": null,
      "metadata": {
        "collapsed": false
      },
      "outputs": [],
      "source": [
        "fig, ax = plt.subplots(1, 1, figsize=(10, 7))\nsns.heatmap(df_mae, cmap=\"YlGnBu\")\nplt.title(\"Cross-validation MAE\")"
      ]
    },
    {
      "cell_type": "markdown",
      "metadata": {},
      "source": [
        "Use the final model to make predictions on test data and plot scatterplot\nof true values vs predicted values.\n\n"
      ]
    },
    {
      "cell_type": "code",
      "execution_count": null,
      "metadata": {
        "collapsed": false
      },
      "outputs": [],
      "source": [
        "y_true = test_diabetes[y]\ny_pred = model.predict(test_diabetes[X])\nmae = format(mean_absolute_error(y_true, y_pred), \".2f\")\ncorr = format(np.corrcoef(y_pred, y_true)[1, 0], \".2f\")\n\nfig, ax = plt.subplots(1, 1, figsize=(10, 7))\nsns.set_style(\"darkgrid\")\nplt.scatter(y_true, y_pred)\nplt.plot(y_true, y_true)\nxmin, xmax = ax.get_xlim()\nymin, ymax = ax.get_ylim()\ntext = \"MAE: \" + str(mae) + \"   CORR: \" + str(corr)\nax.set(xlabel=\"True values\", ylabel=\"Predicted values\")\nplt.title(\"Actual vs Predicted\")\nplt.text(\n    xmax - 0.01 * xmax,\n    ymax - 0.01 * ymax,\n    text,\n    verticalalignment=\"top\",\n    horizontalalignment=\"right\",\n    fontsize=12,\n)\nplt.axis(\"scaled\")"
      ]
    }
  ],
  "metadata": {
    "kernelspec": {
      "display_name": "Python 3",
      "language": "python",
      "name": "python3"
    },
    "language_info": {
      "codemirror_mode": {
        "name": "ipython",
        "version": 3
      },
      "file_extension": ".py",
      "mimetype": "text/x-python",
      "name": "python",
      "nbconvert_exporter": "python",
      "pygments_lexer": "ipython3",
      "version": "3.10.14"
    }
  },
  "nbformat": 4,
  "nbformat_minor": 0
}