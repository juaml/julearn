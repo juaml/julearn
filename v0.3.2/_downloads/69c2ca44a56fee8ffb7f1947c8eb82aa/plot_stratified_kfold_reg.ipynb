{
  "cells": [
    {
      "cell_type": "markdown",
      "metadata": {},
      "source": [
        "\n# Stratified K-fold CV for regression analysis\n\nThis example uses the ``diabetes`` data from ``sklearn datasets`` to\nperform stratified Kfold CV for a regression problem,\n\n.. include:: ../../links.inc\n"
      ]
    },
    {
      "cell_type": "code",
      "execution_count": null,
      "metadata": {
        "collapsed": false
      },
      "outputs": [],
      "source": [
        "# Authors: Shammi More <s.more@fz-juelich.de>\n#          Federico Raimondo <f.raimondo@fz-juelich.de>\n#          Leonard Sasse <l.sasse@fz-juelich.de>\n# License: AGPL\n\nimport pandas as pd\nimport seaborn as sns\nimport matplotlib.pyplot as plt\nfrom sklearn.datasets import load_diabetes\nfrom sklearn.model_selection import KFold\n\nfrom julearn import run_cross_validation\nfrom julearn.utils import configure_logging\nfrom julearn.model_selection import ContinuousStratifiedKFold"
      ]
    },
    {
      "cell_type": "markdown",
      "metadata": {},
      "source": [
        "Set the logging level to info to see extra information.\n\n"
      ]
    },
    {
      "cell_type": "code",
      "execution_count": null,
      "metadata": {
        "collapsed": false
      },
      "outputs": [],
      "source": [
        "configure_logging(level=\"INFO\")"
      ]
    },
    {
      "cell_type": "markdown",
      "metadata": {},
      "source": [
        "Load the diabetes data from ``sklearn`` as a ``pandas.DataFrame``.\n\n"
      ]
    },
    {
      "cell_type": "code",
      "execution_count": null,
      "metadata": {
        "collapsed": false
      },
      "outputs": [],
      "source": [
        "features, target = load_diabetes(return_X_y=True, as_frame=True)"
      ]
    },
    {
      "cell_type": "markdown",
      "metadata": {},
      "source": [
        "Dataset contains ten variables age, sex, body mass index, average blood\npressure, and six blood serum measurements (s1-s6) diabetes patients and\na quantitative measure of disease progression one year after baseline which\nis the target we are interested in predicting.\n\n"
      ]
    },
    {
      "cell_type": "code",
      "execution_count": null,
      "metadata": {
        "collapsed": false
      },
      "outputs": [],
      "source": [
        "print(\"Features: \\n\", features.head())\nprint(\"Target: \\n\", target.describe())"
      ]
    },
    {
      "cell_type": "markdown",
      "metadata": {},
      "source": [
        "Let's combine features and target together in one dataframe and create some\noutliers to see the difference in model performance with and without\nstratification.\n\n"
      ]
    },
    {
      "cell_type": "code",
      "execution_count": null,
      "metadata": {
        "collapsed": false
      },
      "outputs": [],
      "source": [
        "data_df = pd.concat([features, target], axis=1)\n\n# Create outliers for test purpose\nnew_df = data_df[(data_df.target > 145) & (data_df.target <= 150)]\nnew_df[\"target\"] = [590, 580, 597, 595, 590, 590, 600]\ndata_df = pd.concat([data_df, new_df], axis=0)\ndata_df = data_df.reset_index(drop=True)\n\n# Define X, y\nX = [\"age\", \"sex\", \"bmi\", \"bp\", \"s1\", \"s2\", \"s3\", \"s4\", \"s5\", \"s6\"]\ny = \"target\""
      ]
    },
    {
      "cell_type": "markdown",
      "metadata": {},
      "source": [
        "Define number of bins/group for stratification. The idea is that each \"bin\"\nwill be equally represented in each fold. The number of bins should be\nchosen such that each bin has a sufficient number of samples so that each\nfold has more than one sample from each bin.\nLet's see a couple of histrograms with different number of bins.\n\n"
      ]
    },
    {
      "cell_type": "code",
      "execution_count": null,
      "metadata": {
        "collapsed": false
      },
      "outputs": [],
      "source": [
        "sns.displot(data_df, x=\"target\", bins=60)\n\nsns.displot(data_df, x=\"target\", bins=40)\n\nsns.displot(data_df, x=\"target\", bins=20)"
      ]
    },
    {
      "cell_type": "markdown",
      "metadata": {},
      "source": [
        "From the histogram above, we can see that the data is not uniformly\ndistributed. We can see that the data is skewed towards the lower end of\nthe target variable. We can also see that there are some outliers in the\ndata. In any case, even with a low number of splits, some groups will not be\nrepresented in each fold. Lets continue with 40 bins which gives a good\ngranularity.\n\n"
      ]
    },
    {
      "cell_type": "code",
      "execution_count": null,
      "metadata": {
        "collapsed": false
      },
      "outputs": [],
      "source": [
        "cv_stratified = ContinuousStratifiedKFold(n_bins=40, n_splits=5, shuffle=False)"
      ]
    },
    {
      "cell_type": "markdown",
      "metadata": {},
      "source": [
        "Train a linear regression model with stratification on target.\n\n"
      ]
    },
    {
      "cell_type": "code",
      "execution_count": null,
      "metadata": {
        "collapsed": false
      },
      "outputs": [],
      "source": [
        "scores_strat, model = run_cross_validation(\n    X=X,\n    y=y,\n    data=data_df,\n    preprocess=\"zscore\",\n    cv=cv_stratified,\n    problem_type=\"regression\",\n    model=\"linreg\",\n    return_estimator=\"final\",\n    scoring=\"neg_mean_absolute_error\",\n)"
      ]
    },
    {
      "cell_type": "markdown",
      "metadata": {},
      "source": [
        "Train a linear regression model without stratification on target.\n\n"
      ]
    },
    {
      "cell_type": "code",
      "execution_count": null,
      "metadata": {
        "collapsed": false
      },
      "outputs": [],
      "source": [
        "cv = KFold(n_splits=5, shuffle=False, random_state=None)\nscores, model = run_cross_validation(\n    X=X,\n    y=y,\n    data=data_df,\n    preprocess=\"zscore\",\n    cv=cv,\n    problem_type=\"regression\",\n    model=\"linreg\",\n    return_estimator=\"final\",\n    scoring=\"neg_mean_absolute_error\",\n)"
      ]
    },
    {
      "cell_type": "markdown",
      "metadata": {},
      "source": [
        "Now we can compare the test score for model trained with and without\nstratification. We can combine the two outputs as ``pandas.DataFrame``.\n\n"
      ]
    },
    {
      "cell_type": "code",
      "execution_count": null,
      "metadata": {
        "collapsed": false
      },
      "outputs": [],
      "source": [
        "scores_strat[\"model\"] = \"With stratification\"\nscores[\"model\"] = \"Without stratification\"\ndf_scores = scores_strat[[\"test_score\", \"model\"]]\ndf_scores = pd.concat([df_scores, scores[[\"test_score\", \"model\"]]])"
      ]
    },
    {
      "cell_type": "markdown",
      "metadata": {},
      "source": [
        "Plot a boxplot with test scores from both the models. We see here that\nthe test score is higher when CV splits were not stratified.\n\n"
      ]
    },
    {
      "cell_type": "code",
      "execution_count": null,
      "metadata": {
        "collapsed": false
      },
      "outputs": [],
      "source": [
        "fig, ax = plt.subplots(1, 1, figsize=(10, 7))\nsns.set_style(\"darkgrid\")\nax = sns.boxplot(x=\"model\", y=\"test_score\", data=df_scores)\nax = sns.swarmplot(x=\"model\", y=\"test_score\", data=df_scores, color=\".25\")"
      ]
    }
  ],
  "metadata": {
    "kernelspec": {
      "display_name": "Python 3",
      "language": "python",
      "name": "python3"
    },
    "language_info": {
      "codemirror_mode": {
        "name": "ipython",
        "version": 3
      },
      "file_extension": ".py",
      "mimetype": "text/x-python",
      "name": "python",
      "nbconvert_exporter": "python",
      "pygments_lexer": "ipython3",
      "version": "3.10.14"
    }
  },
  "nbformat": 4,
  "nbformat_minor": 0
}