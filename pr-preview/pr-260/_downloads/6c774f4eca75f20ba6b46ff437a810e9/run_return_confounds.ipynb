{
  "cells": [
    {
      "cell_type": "markdown",
      "metadata": {},
      "source": [
        "\n# Return Confounds in Confound Removal\n\nIn most cases confound removal is a simple operation.\nYou regress out the confound from the features and only continue working with\nthese new confound removed features. This is also the default setting for\n``julearn``'s ``remove_confound`` step. But sometimes you want to work with the\nconfound even after removing it from the features. In this example, we\nwill discuss the options you have.\n\n.. include:: ../../links.inc\n"
      ]
    },
    {
      "cell_type": "code",
      "execution_count": null,
      "metadata": {
        "collapsed": false
      },
      "outputs": [],
      "source": [
        "# Authors: Sami Hamdan <s.hamdan@fz-juelich.de>\n# License: AGPL\n\nfrom sklearn.datasets import load_diabetes  # to load data\nfrom julearn.pipeline import PipelineCreator\nfrom julearn import run_cross_validation\nfrom julearn.inspect import preprocess\n\n# Load in the data\ndf_features, target = load_diabetes(return_X_y=True, as_frame=True)"
      ]
    },
    {
      "cell_type": "markdown",
      "metadata": {},
      "source": [
        "First, we can have a look at our features.\nYou can see it includes Age, BMI, average blood pressure (bp) and 6 other\nmeasures from s1 to s6. Furthermore, it includes sex which will be considered\nas a confound in this example.\n\n"
      ]
    },
    {
      "cell_type": "code",
      "execution_count": null,
      "metadata": {
        "collapsed": false
      },
      "outputs": [],
      "source": [
        "print(\"Features: \", df_features.head())"
      ]
    },
    {
      "cell_type": "markdown",
      "metadata": {},
      "source": [
        "Second, we can have a look at the target.\n\n"
      ]
    },
    {
      "cell_type": "code",
      "execution_count": null,
      "metadata": {
        "collapsed": false
      },
      "outputs": [],
      "source": [
        "print(\"Target: \", target.describe())"
      ]
    },
    {
      "cell_type": "markdown",
      "metadata": {},
      "source": [
        "Now, we can put both into one DataFrame:\n\n"
      ]
    },
    {
      "cell_type": "code",
      "execution_count": null,
      "metadata": {
        "collapsed": false
      },
      "outputs": [],
      "source": [
        "data = df_features.copy()\ndata[\"target\"] = target"
      ]
    },
    {
      "cell_type": "markdown",
      "metadata": {},
      "source": [
        "In the following we will explore different settings of confound removal\nusing ``julearn``'s pipeline functionalities.\n\n## Confound Removal Typical Use Case\nHere, we want to deconfound the features and not include the confound as a\nfeature into our last model. We will use the ``remove_confound`` step for this.\nThen we will use the ``pca`` step to reduce the dimensionality of the features.\nFinally, we will fit a linear regression model.\n\n"
      ]
    },
    {
      "cell_type": "code",
      "execution_count": null,
      "metadata": {
        "collapsed": false
      },
      "outputs": [],
      "source": [
        "creator = PipelineCreator(problem_type=\"regression\", apply_to=\"continuous\")\ncreator.add(\"confound_removal\")\ncreator.add(\"pca\")\ncreator.add(\"linreg\")"
      ]
    },
    {
      "cell_type": "markdown",
      "metadata": {},
      "source": [
        "Now we need to set the ``X_types`` argument of the ``run_cross_validation``\nfunction. This argument is a dictionary that maps the names of the different\ntypes of X to the features that belong to this type. In this example, we\nhave two types of features: `continuous` and `confound`. The `continuous`\nfeatures are the features that we want to deconfound and the `confound`\nfeatures are the features that we want to remove from the `continuous`.\n\n"
      ]
    },
    {
      "cell_type": "code",
      "execution_count": null,
      "metadata": {
        "collapsed": false
      },
      "outputs": [],
      "source": [
        "feature_names = list(df_features.drop(columns=\"sex\").columns)\nX_types = {\"continuous\": feature_names, \"confound\": \"sex\"}\n\nX = feature_names + [\"sex\"]"
      ]
    },
    {
      "cell_type": "markdown",
      "metadata": {},
      "source": [
        "Now we can run the cross validation and get the scores.\n\n"
      ]
    },
    {
      "cell_type": "code",
      "execution_count": null,
      "metadata": {
        "collapsed": false
      },
      "outputs": [],
      "source": [
        "scores, model = run_cross_validation(\n    X=X,\n    y=\"target\",\n    X_types=X_types,\n    data=data,\n    model=creator,\n    return_estimator=\"final\",\n)"
      ]
    },
    {
      "cell_type": "markdown",
      "metadata": {},
      "source": [
        "We can use the ``preprocess`` method of the ``inspect`` module to inspect the\ntransformations steps of the returned estimator.\nBy providing a step name to the ``until`` argument of the\n``preprocess`` method we return the transformed X and y up to\nthe provided step (inclusive).\n\n"
      ]
    },
    {
      "cell_type": "code",
      "execution_count": null,
      "metadata": {
        "collapsed": false
      },
      "outputs": [],
      "source": [
        "df_deconfounded = preprocess(model, X=X, data=data, until=\"confound_removal\")\ndf_deconfounded.head()"
      ]
    },
    {
      "cell_type": "markdown",
      "metadata": {},
      "source": [
        "As you can see the confound ``sex`` was dropped and only the confound removed\nfeatures are used in the following PCA.\n\nBut what if you want to keep the confound after removal for\nother transformations?\n\nFor example, let's assume that you want to do a PCA on the confound removed\nfeature, but want to keep the confound for the actual modelling step.\nLet us have a closer look to the confound remover in order to understand\nhow we could achieve such a task:\n\n.. autoclass:: julearn.transformers.confound_remover.ConfoundRemover\n   :noindex:\n   :exclude-members: transform, get_support, get_feature_names_out,\n                     filter_columns, fit, fit_transform, get_apply_to,\n                     get_needed_types, get_params, set_output, set_params\n\n"
      ]
    },
    {
      "cell_type": "markdown",
      "metadata": {},
      "source": [
        "In this example, we will set the ``keep_confounds`` argument to True.\nThis will keep the confounds after confound removal.\n\n"
      ]
    },
    {
      "cell_type": "code",
      "execution_count": null,
      "metadata": {
        "collapsed": false
      },
      "outputs": [],
      "source": [
        "creator = PipelineCreator(problem_type=\"regression\", apply_to=\"continuous\")\ncreator.add(\"confound_removal\", keep_confounds=True)\ncreator.add(\"pca\")\ncreator.add(\"linreg\")"
      ]
    },
    {
      "cell_type": "markdown",
      "metadata": {},
      "source": [
        "Now we can run the cross validation and get the scores.\n\n"
      ]
    },
    {
      "cell_type": "code",
      "execution_count": null,
      "metadata": {
        "collapsed": false
      },
      "outputs": [],
      "source": [
        "scores, model = run_cross_validation(\n    X=X,\n    y=\"target\",\n    X_types=X_types,\n    data=data,\n    model=creator,\n    return_estimator=\"final\",\n)"
      ]
    },
    {
      "cell_type": "markdown",
      "metadata": {},
      "source": [
        "As you can see this kept the confound variable ``sex`` in the data.\n\n"
      ]
    },
    {
      "cell_type": "code",
      "execution_count": null,
      "metadata": {
        "collapsed": false
      },
      "outputs": [],
      "source": [
        "df_deconfounded = preprocess(model, X=X, data=data, until=\"confound_removal\")\ndf_deconfounded.head()"
      ]
    },
    {
      "cell_type": "markdown",
      "metadata": {},
      "source": [
        "Even after the PCA, the confound will still be present.\nThis is the case because by default transformers only transform continuous\nfeatures (including features without a specified type) and ignore confounds\nand categorical variables.\n\n"
      ]
    },
    {
      "cell_type": "code",
      "execution_count": null,
      "metadata": {
        "collapsed": false
      },
      "outputs": [],
      "source": [
        "df_transformed = preprocess(model, X=X, data=data)\ndf_transformed.head()"
      ]
    },
    {
      "cell_type": "markdown",
      "metadata": {},
      "source": [
        "This means that the resulting Linear Regression can use the deconfounded\nfeatures together with the confound to predict the target. However, in the\npipeline creator, the model is only applied to the continuous features.\nThis means that the confound is not used in the model.\nHere we can see that the model is using 9 features.\n\n"
      ]
    },
    {
      "cell_type": "code",
      "execution_count": null,
      "metadata": {
        "collapsed": false
      },
      "outputs": [],
      "source": [
        "print(len(model.steps[-1][1].model.coef_))"
      ]
    },
    {
      "cell_type": "markdown",
      "metadata": {},
      "source": [
        "Lastly, you can also use the confound as a normal feature after confound\nremoval.\n\n"
      ]
    },
    {
      "cell_type": "code",
      "execution_count": null,
      "metadata": {
        "collapsed": false
      },
      "outputs": [],
      "source": [
        "creator = PipelineCreator(problem_type=\"regression\", apply_to=\"continuous\")\ncreator.add(\"confound_removal\", keep_confounds=True)\ncreator.add(\"pca\")\ncreator.add(\"linreg\", apply_to=\"*\")\n\nscores, model = run_cross_validation(\n    X=X,\n    y=\"target\",\n    X_types=X_types,\n    data=data,\n    model=creator,\n    return_estimator=\"final\",\n)\nscores"
      ]
    },
    {
      "cell_type": "markdown",
      "metadata": {},
      "source": [
        "As you can see the confound is now used in the linear regression model.\nThis is the case because we set the ``apply_to`` argument of the ``linreg``\nstep to ``*``. This means that the step will be applied to all features\n(including confounds and categorical variables).\nHere we can see that the model is using 10 features (9 deconfounded features\nand the confound).\n\n"
      ]
    },
    {
      "cell_type": "code",
      "execution_count": null,
      "metadata": {
        "collapsed": false
      },
      "outputs": [],
      "source": [
        "print(len(model.steps[-1][1].model.coef_))"
      ]
    }
  ],
  "metadata": {
    "kernelspec": {
      "display_name": "Python 3",
      "language": "python",
      "name": "python3"
    },
    "language_info": {
      "codemirror_mode": {
        "name": "ipython",
        "version": 3
      },
      "file_extension": ".py",
      "mimetype": "text/x-python",
      "name": "python",
      "nbconvert_exporter": "python",
      "pygments_lexer": "ipython3",
      "version": "3.10.14"
    }
  },
  "nbformat": 4,
  "nbformat_minor": 0
}