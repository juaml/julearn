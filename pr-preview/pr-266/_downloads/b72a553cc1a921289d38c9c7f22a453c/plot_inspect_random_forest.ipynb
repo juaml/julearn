{
  "cells": [
    {
      "cell_type": "markdown",
      "metadata": {},
      "source": [
        "\n# Inspecting Random Forest models\n\nThis example uses the ``iris`` dataset, performs simple binary classification\nusing a Random Forest classifier and analyse the model.\n\n.. include:: ../../links.inc\n"
      ]
    },
    {
      "cell_type": "code",
      "execution_count": null,
      "metadata": {
        "collapsed": false
      },
      "outputs": [],
      "source": [
        "# Authors: Federico Raimondo <f.raimondo@fz-juelich.de>\n# License: AGPL\n\nimport pandas as pd\n\nimport matplotlib.pyplot as plt\nimport seaborn as sns\nfrom seaborn import load_dataset\n\nfrom julearn import run_cross_validation\nfrom julearn.utils import configure_logging"
      ]
    },
    {
      "cell_type": "markdown",
      "metadata": {},
      "source": [
        "Set the logging level to info to see extra information.\n\n"
      ]
    },
    {
      "cell_type": "code",
      "execution_count": null,
      "metadata": {
        "collapsed": false
      },
      "outputs": [],
      "source": [
        "configure_logging(level=\"INFO\")"
      ]
    },
    {
      "cell_type": "markdown",
      "metadata": {},
      "source": [
        "## Random Forest variable importance\n\n"
      ]
    },
    {
      "cell_type": "code",
      "execution_count": null,
      "metadata": {
        "collapsed": false
      },
      "outputs": [],
      "source": [
        "df_iris = load_dataset(\"iris\")"
      ]
    },
    {
      "cell_type": "markdown",
      "metadata": {},
      "source": [
        "The dataset has three kind of species. We will keep two to perform a binary\nclassification.\n\n"
      ]
    },
    {
      "cell_type": "code",
      "execution_count": null,
      "metadata": {
        "collapsed": false
      },
      "outputs": [],
      "source": [
        "df_iris = df_iris[df_iris[\"species\"].isin([\"versicolor\", \"virginica\"])]\n\nX = [\"sepal_length\", \"sepal_width\", \"petal_length\"]\ny = \"species\""
      ]
    },
    {
      "cell_type": "markdown",
      "metadata": {},
      "source": [
        "We will use a Random Forest classifier. By setting\n`return_estimator='final'`, the :func:`.run_cross_validation` function\nreturns the estimator fitted with all the data.\n\n"
      ]
    },
    {
      "cell_type": "code",
      "execution_count": null,
      "metadata": {
        "collapsed": false
      },
      "outputs": [],
      "source": [
        "scores, model_iris = run_cross_validation(\n    X=X,\n    y=y,\n    data=df_iris,\n    model=\"rf\",\n    preprocess=\"zscore\",\n    problem_type=\"classification\",\n    return_estimator=\"final\",\n)"
      ]
    },
    {
      "cell_type": "markdown",
      "metadata": {},
      "source": [
        "This type of classifier has an internal variable that can inform us on how\n*important* is each of the features. Caution: read the proper ``scikit-learn``\ndocumentation :class:`~sklearn.ensemble.RandomForestClassifier` to understand\nhow this learning algorithm works.\n\n"
      ]
    },
    {
      "cell_type": "code",
      "execution_count": null,
      "metadata": {
        "collapsed": false
      },
      "outputs": [],
      "source": [
        "rf = model_iris[\"rf\"]\n\nto_plot = pd.DataFrame(\n    {\n        \"variable\": [x.replace(\"_\", \" \") for x in X],\n        \"importance\": rf.feature_importances_,\n    }\n)\n\nfig, ax = plt.subplots(1, 1, figsize=(6, 4))\nsns.barplot(x=\"importance\", y=\"variable\", data=to_plot, ax=ax)\nax.set_title(\"Variable Importances for Random Forest Classifier\")\nfig.tight_layout()"
      ]
    },
    {
      "cell_type": "markdown",
      "metadata": {},
      "source": [
        "However, some reviewers (including us), might wander about the\nvariability of the importance of these features. In the previous example\nall the feature importances were obtained by fitting on the entire dataset,\nwhile the performance was estimated using cross validation.\n\nBy specifying `return_estimator='cv'`, we can get, for each fold, the fitted\nestimator.\n\n"
      ]
    },
    {
      "cell_type": "code",
      "execution_count": null,
      "metadata": {
        "collapsed": false
      },
      "outputs": [],
      "source": [
        "scores = run_cross_validation(\n    X=X,\n    y=y,\n    data=df_iris,\n    model=\"rf\",\n    preprocess=\"zscore\",\n    problem_type=\"classification\",\n    return_estimator=\"cv\",\n)"
      ]
    },
    {
      "cell_type": "markdown",
      "metadata": {},
      "source": [
        "Now we can obtain the feature importance for each estimator (CV fold).\n\n"
      ]
    },
    {
      "cell_type": "code",
      "execution_count": null,
      "metadata": {
        "collapsed": false
      },
      "outputs": [],
      "source": [
        "to_plot = []\nfor i_fold, estimator in enumerate(scores[\"estimator\"]):\n    this_importances = pd.DataFrame(\n        {\n            \"variable\": [x.replace(\"_\", \" \") for x in X],\n            \"importance\": estimator[\"rf\"].feature_importances_,\n            \"fold\": i_fold,\n        }\n    )\n    to_plot.append(this_importances)\n\nto_plot = pd.concat(to_plot)"
      ]
    },
    {
      "cell_type": "markdown",
      "metadata": {},
      "source": [
        "Finally, we can plot the variable importances for each fold.\n\n"
      ]
    },
    {
      "cell_type": "code",
      "execution_count": null,
      "metadata": {
        "collapsed": false
      },
      "outputs": [],
      "source": [
        "fig, ax = plt.subplots(1, 1, figsize=(6, 4))\nsns.swarmplot(x=\"importance\", y=\"variable\", data=to_plot, ax=ax)\nax.set_title(\n    \"Distribution of variable Importances for Random Forest \"\n    \"Classifier across folds\"\n)\nfig.tight_layout()"
      ]
    }
  ],
  "metadata": {
    "kernelspec": {
      "display_name": "Python 3",
      "language": "python",
      "name": "python3"
    },
    "language_info": {
      "codemirror_mode": {
        "name": "ipython",
        "version": 3
      },
      "file_extension": ".py",
      "mimetype": "text/x-python",
      "name": "python",
      "nbconvert_exporter": "python",
      "pygments_lexer": "ipython3",
      "version": "3.10.14"
    }
  },
  "nbformat": 4,
  "nbformat_minor": 0
}