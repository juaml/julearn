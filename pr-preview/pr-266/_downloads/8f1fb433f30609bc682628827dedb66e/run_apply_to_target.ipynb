{
  "cells": [
    {
      "cell_type": "markdown",
      "metadata": {},
      "source": [
        "\n# Transforming target variable with z-score\n\nThis example uses the sklearn ``diabetes`` regression dataset, and transforms the\ntarget variable, in this case, using z-score. Then, we perform a regression\nanalysis using Ridge Regression model.\n"
      ]
    },
    {
      "cell_type": "code",
      "execution_count": null,
      "metadata": {
        "collapsed": false
      },
      "outputs": [],
      "source": [
        "# Authors: Lya K. Paas Oliveros <l.paas.oliveros@fz-juelich.de>\n#          Sami Hamdan <s.hamdan@fz-juelich.de>\n#\n# License: AGPL\n\nimport pandas as pd\nfrom sklearn.datasets import load_diabetes\nfrom sklearn.model_selection import train_test_split\n\nfrom julearn import run_cross_validation\nfrom julearn.utils import configure_logging\n\nfrom julearn.pipeline import PipelineCreator, TargetPipelineCreator"
      ]
    },
    {
      "cell_type": "markdown",
      "metadata": {},
      "source": [
        "Set the logging level to info to see extra information.\n\n"
      ]
    },
    {
      "cell_type": "code",
      "execution_count": null,
      "metadata": {
        "collapsed": false
      },
      "outputs": [],
      "source": [
        "configure_logging(level=\"INFO\")"
      ]
    },
    {
      "cell_type": "markdown",
      "metadata": {},
      "source": [
        "Load the diabetes dataset from ``sklearn`` as a ``pandas.DataFrame``.\n\n"
      ]
    },
    {
      "cell_type": "code",
      "execution_count": null,
      "metadata": {
        "collapsed": false
      },
      "outputs": [],
      "source": [
        "features, target = load_diabetes(return_X_y=True, as_frame=True)"
      ]
    },
    {
      "cell_type": "markdown",
      "metadata": {},
      "source": [
        "Dataset contains ten variables age, sex, body mass index, average  blood\npressure, and six blood serum measurements (s1-s6) diabetes patients and\na quantitative measure of disease progression one year after baseline which\nis the target we are interested in predicting.\n\n"
      ]
    },
    {
      "cell_type": "code",
      "execution_count": null,
      "metadata": {
        "collapsed": false
      },
      "outputs": [],
      "source": [
        "print(\"Features: \\n\", features.head())\nprint(\"Target: \\n\", target.describe())"
      ]
    },
    {
      "cell_type": "markdown",
      "metadata": {},
      "source": [
        "Let's combine features and target together in one dataframe and define X\nand y.\n\n"
      ]
    },
    {
      "cell_type": "code",
      "execution_count": null,
      "metadata": {
        "collapsed": false
      },
      "outputs": [],
      "source": [
        "data_diabetes = pd.concat([features, target], axis=1)\n\nX = [\"age\", \"sex\", \"bmi\", \"bp\", \"s1\", \"s2\", \"s3\", \"s4\", \"s5\", \"s6\"]\ny = \"target\""
      ]
    },
    {
      "cell_type": "markdown",
      "metadata": {},
      "source": [
        "Split the dataset into train and test.\n\n"
      ]
    },
    {
      "cell_type": "code",
      "execution_count": null,
      "metadata": {
        "collapsed": false
      },
      "outputs": [],
      "source": [
        "train_diabetes, test_diabetes = train_test_split(data_diabetes, test_size=0.3)"
      ]
    },
    {
      "cell_type": "markdown",
      "metadata": {},
      "source": [
        "Let's create the model. Since we will be transforming the target variable\nwe will first need to create a TargetPipelineCreator for this.\n\n"
      ]
    },
    {
      "cell_type": "code",
      "execution_count": null,
      "metadata": {
        "collapsed": false
      },
      "outputs": [],
      "source": [
        "target_creator = TargetPipelineCreator()\ntarget_creator.add(\"zscore\")"
      ]
    },
    {
      "cell_type": "markdown",
      "metadata": {},
      "source": [
        "Now we can create the pipeline using a PipelineCreator.\n\n"
      ]
    },
    {
      "cell_type": "code",
      "execution_count": null,
      "metadata": {
        "collapsed": false
      },
      "outputs": [],
      "source": [
        "creator = PipelineCreator(problem_type=\"regression\")\ncreator.add(target_creator, apply_to=\"target\")\ncreator.add(\"ridge\")\n\nscores, model = run_cross_validation(\n    X=X,\n    y=y,\n    data=train_diabetes,\n    model=creator,\n    return_estimator=\"final\",\n    scoring=\"neg_mean_absolute_error\",\n)\n\nprint(scores.head(5))"
      ]
    },
    {
      "cell_type": "markdown",
      "metadata": {},
      "source": [
        "Mean value of mean absolute error across CV\n\n"
      ]
    },
    {
      "cell_type": "code",
      "execution_count": null,
      "metadata": {
        "collapsed": false
      },
      "outputs": [],
      "source": [
        "print(scores[\"test_score\"].mean() * -1)"
      ]
    }
  ],
  "metadata": {
    "kernelspec": {
      "display_name": "Python 3",
      "language": "python",
      "name": "python3"
    },
    "language_info": {
      "codemirror_mode": {
        "name": "ipython",
        "version": 3
      },
      "file_extension": ".py",
      "mimetype": "text/x-python",
      "name": "python",
      "nbconvert_exporter": "python",
      "pygments_lexer": "ipython3",
      "version": "3.10.14"
    }
  },
  "nbformat": 4,
  "nbformat_minor": 0
}