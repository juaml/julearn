{
  "cells": [
    {
      "cell_type": "markdown",
      "metadata": {},
      "source": [
        "\n# Regression Analysis\n\nThis example uses the ``diabetes`` data from ``sklearn datasets`` and performs\na regression analysis using a Ridge Regression model.\n"
      ]
    },
    {
      "cell_type": "code",
      "execution_count": null,
      "metadata": {
        "collapsed": false
      },
      "outputs": [],
      "source": [
        "# Authors: Shammi More <s.more@fz-juelich.de>\n#          Federico Raimondo <f.raimondo@fz-juelich.de>\n# License: AGPL\n\nimport pandas as pd\nimport seaborn as sns\nimport numpy as np\nimport matplotlib.pyplot as plt\nfrom sklearn.datasets import load_diabetes\nfrom sklearn.metrics import mean_absolute_error\nfrom sklearn.model_selection import train_test_split\n\nfrom julearn import run_cross_validation\nfrom julearn.utils import configure_logging"
      ]
    },
    {
      "cell_type": "markdown",
      "metadata": {},
      "source": [
        "Set the logging level to info to see extra information.\n\n"
      ]
    },
    {
      "cell_type": "code",
      "execution_count": null,
      "metadata": {
        "collapsed": false
      },
      "outputs": [],
      "source": [
        "configure_logging(level=\"INFO\")"
      ]
    },
    {
      "cell_type": "markdown",
      "metadata": {},
      "source": [
        "Load the diabetes data from ``sklearn`` as a ``pandas.DataFrame``.\n\n"
      ]
    },
    {
      "cell_type": "code",
      "execution_count": null,
      "metadata": {
        "collapsed": false
      },
      "outputs": [],
      "source": [
        "features, target = load_diabetes(return_X_y=True, as_frame=True)"
      ]
    },
    {
      "cell_type": "markdown",
      "metadata": {},
      "source": [
        "Dataset contains ten variables age, sex, body mass index, average blood\npressure, and six blood serum measurements (s1-s6) diabetes patients and\na quantitative measure of disease progression one year after baseline which\nis the target we are interested in predicting.\n\n"
      ]
    },
    {
      "cell_type": "code",
      "execution_count": null,
      "metadata": {
        "collapsed": false
      },
      "outputs": [],
      "source": [
        "print(\"Features: \\n\", features.head())\nprint(\"Target: \\n\", target.describe())"
      ]
    },
    {
      "cell_type": "markdown",
      "metadata": {},
      "source": [
        "Let's combine features and target together in one dataframe and define X\nand y\n\n"
      ]
    },
    {
      "cell_type": "code",
      "execution_count": null,
      "metadata": {
        "collapsed": false
      },
      "outputs": [],
      "source": [
        "data_diabetes = pd.concat([features, target], axis=1)\n\nX = [\"age\", \"sex\", \"bmi\", \"bp\", \"s1\", \"s2\", \"s3\", \"s4\", \"s5\", \"s6\"]\ny = \"target\""
      ]
    },
    {
      "cell_type": "markdown",
      "metadata": {},
      "source": [
        "Calculate correlations between the features/variables and plot it as heat map.\n\n"
      ]
    },
    {
      "cell_type": "code",
      "execution_count": null,
      "metadata": {
        "collapsed": false
      },
      "outputs": [],
      "source": [
        "corr = data_diabetes.corr()\n\nfig, ax = plt.subplots(1, 1, figsize=(10, 7))\nsns.set(font_scale=1.2)\nsns.heatmap(\n    corr,\n    xticklabels=corr.columns,\n    yticklabels=corr.columns,\n    annot=True,\n    fmt=\"0.1f\",\n)"
      ]
    },
    {
      "cell_type": "markdown",
      "metadata": {},
      "source": [
        "Split the dataset into train and test.\n\n"
      ]
    },
    {
      "cell_type": "code",
      "execution_count": null,
      "metadata": {
        "collapsed": false
      },
      "outputs": [],
      "source": [
        "train_diabetes, test_diabetes = train_test_split(data_diabetes, test_size=0.3)"
      ]
    },
    {
      "cell_type": "markdown",
      "metadata": {},
      "source": [
        "Train a ridge regression model on train dataset and use mean absolute error\nfor scoring.\n\n"
      ]
    },
    {
      "cell_type": "code",
      "execution_count": null,
      "metadata": {
        "collapsed": false
      },
      "outputs": [],
      "source": [
        "scores, model = run_cross_validation(\n    X=X,\n    y=y,\n    data=train_diabetes,\n    preprocess=\"zscore\",\n    problem_type=\"regression\",\n    model=\"ridge\",\n    return_estimator=\"final\",\n    scoring=\"neg_mean_absolute_error\",\n)"
      ]
    },
    {
      "cell_type": "markdown",
      "metadata": {},
      "source": [
        "The scores dataframe has all the values for each CV split.\n\n"
      ]
    },
    {
      "cell_type": "code",
      "execution_count": null,
      "metadata": {
        "collapsed": false
      },
      "outputs": [],
      "source": [
        "scores.head()"
      ]
    },
    {
      "cell_type": "markdown",
      "metadata": {},
      "source": [
        "Mean value of mean absolute error across CV\n\n"
      ]
    },
    {
      "cell_type": "code",
      "execution_count": null,
      "metadata": {
        "collapsed": false
      },
      "outputs": [],
      "source": [
        "print(scores[\"test_score\"].mean() * -1)"
      ]
    },
    {
      "cell_type": "markdown",
      "metadata": {},
      "source": [
        "Now we can get the MAE fold and repetition:\n\n"
      ]
    },
    {
      "cell_type": "code",
      "execution_count": null,
      "metadata": {
        "collapsed": false
      },
      "outputs": [],
      "source": [
        "df_mae = scores.set_index([\"repeat\", \"fold\"])[\"test_score\"].unstack() * -1\ndf_mae.index.name = \"Repeats\"\ndf_mae.columns.name = \"K-fold splits\"\n\ndf_mae"
      ]
    },
    {
      "cell_type": "markdown",
      "metadata": {},
      "source": [
        "Plot heatmap of mean absolute error (MAE) over all repeats and CV splits.\n\n"
      ]
    },
    {
      "cell_type": "code",
      "execution_count": null,
      "metadata": {
        "collapsed": false
      },
      "outputs": [],
      "source": [
        "fig, ax = plt.subplots(1, 1, figsize=(10, 7))\nsns.heatmap(df_mae, cmap=\"YlGnBu\")\nplt.title(\"Cross-validation MAE\")"
      ]
    },
    {
      "cell_type": "markdown",
      "metadata": {},
      "source": [
        "Let's plot the feature importance using the coefficients of the trained model.\n\n"
      ]
    },
    {
      "cell_type": "code",
      "execution_count": null,
      "metadata": {
        "collapsed": false
      },
      "outputs": [],
      "source": [
        "features = pd.DataFrame({\"Features\": X, \"importance\": model[\"ridge\"].coef_})\nfeatures.sort_values(by=[\"importance\"], ascending=True, inplace=True)\nfeatures[\"positive\"] = features[\"importance\"] > 0\n\nfig, ax = plt.subplots(1, 1, figsize=(10, 7))\nfeatures.set_index(\"Features\", inplace=True)\nfeatures.importance.plot(\n    kind=\"barh\", color=features.positive.map({True: \"blue\", False: \"red\"})\n)\nax.set(xlabel=\"Importance\", title=\"Variable importance for Ridge Regression\")"
      ]
    },
    {
      "cell_type": "markdown",
      "metadata": {},
      "source": [
        "Use the final model to make predictions on test data and plot scatterplot\nof true values vs predicted values.\n\n"
      ]
    },
    {
      "cell_type": "code",
      "execution_count": null,
      "metadata": {
        "collapsed": false
      },
      "outputs": [],
      "source": [
        "y_true = test_diabetes[y]\ny_pred = model.predict(test_diabetes[X])\nmae = format(mean_absolute_error(y_true, y_pred), \".2f\")\ncorr = format(np.corrcoef(y_pred, y_true)[1, 0], \".2f\")\n\nfig, ax = plt.subplots(1, 1, figsize=(10, 7))\nsns.set_style(\"darkgrid\")\nplt.scatter(y_true, y_pred)\nplt.plot(y_true, y_true)\nxmin, xmax = ax.get_xlim()\nymin, ymax = ax.get_ylim()\ntext = \"MAE: \" + str(mae) + \"   CORR: \" + str(corr)\nax.set(xlabel=\"True values\", ylabel=\"Predicted values\")\nplt.title(\"Actual vs Predicted\")\nplt.text(\n    xmax - 0.01 * xmax,\n    ymax - 0.01 * ymax,\n    text,\n    verticalalignment=\"top\",\n    horizontalalignment=\"right\",\n    fontsize=12,\n)\nplt.axis(\"scaled\")"
      ]
    }
  ],
  "metadata": {
    "kernelspec": {
      "display_name": "Python 3",
      "language": "python",
      "name": "python3"
    },
    "language_info": {
      "codemirror_mode": {
        "name": "ipython",
        "version": 3
      },
      "file_extension": ".py",
      "mimetype": "text/x-python",
      "name": "python",
      "nbconvert_exporter": "python",
      "pygments_lexer": "ipython3",
      "version": "3.10.14"
    }
  },
  "nbformat": 4,
  "nbformat_minor": 0
}