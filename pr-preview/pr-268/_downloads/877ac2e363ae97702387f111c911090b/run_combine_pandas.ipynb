{
  "cells": [
    {
      "cell_type": "markdown",
      "metadata": {},
      "source": [
        "\n# Working with ``pandas``\n\nThis example uses the ``fmri`` dataset to transform and combine data in order\nto prepare it to be used by ``julearn``.\n\n\n## References\n\n  Waskom, M.L., Frank, M.C., Wagner, A.D. (2016). Adaptive engagement of\n  cognitive control in context-dependent decision-making. Cerebral Cortex.\n\n.. include:: ../../links.inc\n"
      ]
    },
    {
      "cell_type": "code",
      "execution_count": null,
      "metadata": {
        "collapsed": false
      },
      "outputs": [],
      "source": [
        "# Authors: Federico Raimondo <f.raimondo@fz-juelich.de>\n#\n# License: AGPL\n\nfrom seaborn import load_dataset\nimport pandas as pd"
      ]
    },
    {
      "cell_type": "markdown",
      "metadata": {},
      "source": [
        "One of the key elements that make ``julearn`` easy to use, is the possibility\nto work directly with ``pandas.DataFrame``, similar to MS Excel spreadsheets\nor csv files.\n\nIdeally, we will have everything tabulated and organised for ``julearn``, but\nit might not be your case. You might have some files with the fMRI values, some\nothers with demographics, some other with diagnostic metrics or behavioral\nresults.\n\nYou need to prepare these files for ``julearn``.\n\nOne option is to manually edit the files and make sure that everything is\nready to do some machine-learning. However, this is error-prone.\n\nFortunately, `pandas`_ provides several tools to deal with this task.\n\nThis example is a collection of some of these useful methods.\n\nLet's start with the ``fmri`` dataset.\n\n"
      ]
    },
    {
      "cell_type": "code",
      "execution_count": null,
      "metadata": {
        "collapsed": false
      },
      "outputs": [],
      "source": [
        "df_fmri = load_dataset(\"fmri\")"
      ]
    },
    {
      "cell_type": "markdown",
      "metadata": {},
      "source": [
        "Let's see what this dataset has.\n\n\n"
      ]
    },
    {
      "cell_type": "code",
      "execution_count": null,
      "metadata": {
        "collapsed": false
      },
      "outputs": [],
      "source": [
        "df_fmri.head()"
      ]
    },
    {
      "cell_type": "markdown",
      "metadata": {},
      "source": [
        "From long to wide format\nWe have seen this in other examples. If we want to use julearn, each feature\nmust be a columns. In order to use the signals from different regions as\n~~~~~~~~~~~~~~~~~~~~~~~~\nfeatures, we need to convert this dataframe from the long format to the wide\nformat.\n\nWe will use the ``pivot`` method.\n\n"
      ]
    },
    {
      "cell_type": "code",
      "execution_count": null,
      "metadata": {
        "collapsed": false
      },
      "outputs": [],
      "source": [
        "df_fmri = df_fmri.pivot(\n    index=[\"subject\", \"timepoint\", \"event\"], columns=\"region\", values=\"signal\"\n)"
      ]
    },
    {
      "cell_type": "markdown",
      "metadata": {},
      "source": [
        "This method reshapes the table, keeping the specified elements as index,\ncolumns and values.\n\nIn our case, the values are extracted from the *signal* column. The columns\nfrom the *region* column and *subject*, *timepoint* and *event* becomes the\nindex.\n\nThe index is what identifies each sample. As a rule, the index can't be\nduplicated. If each subject has more than one timepoint, and each timepoint\nhas more than one event, then these 3 elements are needed as the index.\n\nLet's see what we have here:\n\n"
      ]
    },
    {
      "cell_type": "code",
      "execution_count": null,
      "metadata": {
        "collapsed": false
      },
      "outputs": [],
      "source": [
        "df_fmri.head()"
      ]
    },
    {
      "cell_type": "markdown",
      "metadata": {},
      "source": [
        "Now this is in the format we want. However, in order to access the index\nas columns ``df_fmri[\"subject\"]`` we need to reset the index.\n\nCheck the subtle but important difference:\n\n"
      ]
    },
    {
      "cell_type": "code",
      "execution_count": null,
      "metadata": {
        "collapsed": false
      },
      "outputs": [],
      "source": [
        "df_fmri = df_fmri.reset_index()\ndf_fmri.head()"
      ]
    },
    {
      "cell_type": "markdown",
      "metadata": {},
      "source": [
        "### Merging or joining ``DataFrame``\n\nSo now we have our fMRI data tabulated for ``julearn``. However, it might be\nthe case that we have some important information in another file. For example,\nthe subjects' age and the place where they were scanned.\n\nFor the purpose of the example, we'll create the dataframe here.\n\n"
      ]
    },
    {
      "cell_type": "code",
      "execution_count": null,
      "metadata": {
        "collapsed": false
      },
      "outputs": [],
      "source": [
        "metadata = {\n    \"subject\": [f\"s{i}\" for i in range(14)],\n    \"age\": [23, 21, 31, 29, 43, 23, 43, 28, 48, 29, 35, 23, 34, 25],\n    \"scanner\": [\"a\"] * 6 + [\"b\"] * 8,\n}\ndf_meta = pd.DataFrame(metadata)\ndf_meta"
      ]
    },
    {
      "cell_type": "markdown",
      "metadata": {},
      "source": [
        "We will use the ``join`` method. This method will join the two dataframes,\nmatching elements by the *index*.\n\nIn this case, the matching element (or index) will be the column ``subject``.\nWe need to set the index in each dataframe before join.\n\n"
      ]
    },
    {
      "cell_type": "code",
      "execution_count": null,
      "metadata": {
        "collapsed": false
      },
      "outputs": [],
      "source": [
        "df_fmri = df_fmri.set_index(\"subject\")\ndf_meta = df_meta.set_index(\"subject\")\ndf_fmri = df_fmri.join(df_meta)\ndf_fmri"
      ]
    },
    {
      "cell_type": "markdown",
      "metadata": {},
      "source": [
        "Finally, let's reset the index and have it ready for ``julearn``.\n\n"
      ]
    },
    {
      "cell_type": "code",
      "execution_count": null,
      "metadata": {
        "collapsed": false
      },
      "outputs": [],
      "source": [
        "df_fmri = df_fmri.reset_index()"
      ]
    },
    {
      "cell_type": "markdown",
      "metadata": {},
      "source": [
        "Now we can use, for example, *age* and *scanner* as confounds.\n\n"
      ]
    },
    {
      "cell_type": "markdown",
      "metadata": {},
      "source": [
        "Reshaping data frames (more complex)\nLets suppose that our prediction target is now the *age* and we want to use\n~~~~~~~~~~~~~~~~~~~~~~~~~~~~~~~~~~~~\nas features the frontal and parietal value during each event. For this\npurpose, we need to convert the event values into columns. There are two\nevents: *cue* and *stim*. So this will result in 4 columns.\n\nWe will still use the pivot, but in this case, we will have two values:\n\n"
      ]
    },
    {
      "cell_type": "code",
      "execution_count": null,
      "metadata": {
        "collapsed": false
      },
      "outputs": [],
      "source": [
        "df_fmri = df_fmri.pivot(\n    index=[\"subject\", \"timepoint\", \"age\", \"scanner\"],\n    columns=\"event\",\n    values=[\"frontal\", \"parietal\"],\n)\ndf_fmri"
      ]
    },
    {
      "cell_type": "markdown",
      "metadata": {},
      "source": [
        "Since the column names are combinations of the values in the *event* column\nand the previous *frontal* and *parietal* columns, it is now a multi-level\ncolumn name.\n\n"
      ]
    },
    {
      "cell_type": "code",
      "execution_count": null,
      "metadata": {
        "collapsed": false
      },
      "outputs": [],
      "source": [
        "df_fmri.columns"
      ]
    },
    {
      "cell_type": "markdown",
      "metadata": {},
      "source": [
        "The following trick will join the different levels using an underscore (*_*)\n\n"
      ]
    },
    {
      "cell_type": "code",
      "execution_count": null,
      "metadata": {
        "collapsed": false
      },
      "outputs": [],
      "source": [
        "df_fmri.columns = [\"_\".join(x) for x in df_fmri.columns]\ndf_fmri"
      ]
    },
    {
      "cell_type": "markdown",
      "metadata": {},
      "source": [
        "We have finally the information we want. We can now reset the index.\n\n"
      ]
    },
    {
      "cell_type": "code",
      "execution_count": null,
      "metadata": {
        "collapsed": false
      },
      "outputs": [],
      "source": [
        "df_fmri = df_fmri.reset_index()"
      ]
    }
  ],
  "metadata": {
    "kernelspec": {
      "display_name": "Python 3",
      "language": "python",
      "name": "python3"
    },
    "language_info": {
      "codemirror_mode": {
        "name": "ipython",
        "version": 3
      },
      "file_extension": ".py",
      "mimetype": "text/x-python",
      "name": "python",
      "nbconvert_exporter": "python",
      "pygments_lexer": "ipython3",
      "version": "3.10.14"
    }
  },
  "nbformat": 4,
  "nbformat_minor": 0
}