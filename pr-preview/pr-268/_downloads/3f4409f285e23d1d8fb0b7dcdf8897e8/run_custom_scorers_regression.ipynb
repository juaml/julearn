{
  "cells": [
    {
      "cell_type": "markdown",
      "metadata": {},
      "source": [
        "\n# Custom Scoring Function for Regression\n\nThis example uses the ``diabetes`` data from ``sklearn datasets`` and performs\na regression analysis using a Ridge Regression model. As scorers, it uses\n``scikit-learn``, ``julearn`` and a custom metric defined by the user.\n"
      ]
    },
    {
      "cell_type": "code",
      "execution_count": null,
      "metadata": {
        "collapsed": false
      },
      "outputs": [],
      "source": [
        "# Authors: Shammi More <s.more@fz-juelich.de>\n#          Federico Raimondo <f.raimondo@fz-juelich.de>\n# License: AGPL\n\nimport pandas as pd\nimport scipy\nfrom sklearn.datasets import load_diabetes\n\nfrom sklearn.metrics import make_scorer\nfrom julearn.scoring import register_scorer\n\nfrom julearn import run_cross_validation\nfrom julearn.utils import configure_logging"
      ]
    },
    {
      "cell_type": "markdown",
      "metadata": {},
      "source": [
        "Set the logging level to info to see extra information.\n\n"
      ]
    },
    {
      "cell_type": "code",
      "execution_count": null,
      "metadata": {
        "collapsed": false
      },
      "outputs": [],
      "source": [
        "configure_logging(level=\"INFO\")"
      ]
    },
    {
      "cell_type": "markdown",
      "metadata": {},
      "source": [
        "load the diabetes data from ``sklearn`` as a ``pandas.DataFrame``.\n\n"
      ]
    },
    {
      "cell_type": "code",
      "execution_count": null,
      "metadata": {
        "collapsed": false
      },
      "outputs": [],
      "source": [
        "features, target = load_diabetes(return_X_y=True, as_frame=True)"
      ]
    },
    {
      "cell_type": "markdown",
      "metadata": {},
      "source": [
        "Dataset contains ten variables age, sex, body mass index, average blood\npressure, and six blood serum measurements (s1-s6) diabetes patients and\na quantitative measure of disease progression one year after baseline which\nis the target we are interested in predicting.\n\n"
      ]
    },
    {
      "cell_type": "code",
      "execution_count": null,
      "metadata": {
        "collapsed": false
      },
      "outputs": [],
      "source": [
        "print(\"Features: \\n\", features.head())\nprint(\"Target: \\n\", target.describe())"
      ]
    },
    {
      "cell_type": "markdown",
      "metadata": {},
      "source": [
        "Let's combine features and target together in one dataframe and define X\nand y.\n\n"
      ]
    },
    {
      "cell_type": "code",
      "execution_count": null,
      "metadata": {
        "collapsed": false
      },
      "outputs": [],
      "source": [
        "data_diabetes = pd.concat([features, target], axis=1)  # type: ignore\n\nX = [\"age\", \"sex\", \"bmi\", \"bp\", \"s1\", \"s2\", \"s3\", \"s4\", \"s5\", \"s6\"]\ny = \"target\""
      ]
    },
    {
      "cell_type": "markdown",
      "metadata": {},
      "source": [
        "Train a ridge regression model on train dataset and use mean absolute error\nfor scoring.\n\n"
      ]
    },
    {
      "cell_type": "code",
      "execution_count": null,
      "metadata": {
        "collapsed": false
      },
      "outputs": [],
      "source": [
        "scores, model = run_cross_validation(\n    X=X,\n    y=y,\n    data=data_diabetes,\n    preprocess=\"zscore\",\n    problem_type=\"regression\",\n    model=\"ridge\",\n    return_estimator=\"final\",\n    scoring=\"neg_mean_absolute_error\",\n)"
      ]
    },
    {
      "cell_type": "markdown",
      "metadata": {},
      "source": [
        "The scores dataframe has all the values for each CV split.\n\n"
      ]
    },
    {
      "cell_type": "code",
      "execution_count": null,
      "metadata": {
        "collapsed": false
      },
      "outputs": [],
      "source": [
        "scores.head()"
      ]
    },
    {
      "cell_type": "markdown",
      "metadata": {},
      "source": [
        "Mean value of mean absolute error across CV.\n\n"
      ]
    },
    {
      "cell_type": "code",
      "execution_count": null,
      "metadata": {
        "collapsed": false
      },
      "outputs": [],
      "source": [
        "print(scores[\"test_score\"].mean() * -1)"
      ]
    },
    {
      "cell_type": "markdown",
      "metadata": {},
      "source": [
        "Now do the same thing, but use mean absolute error and Pearson product-moment\ncorrelation coefficient (squared) as scoring functions.\n\n"
      ]
    },
    {
      "cell_type": "code",
      "execution_count": null,
      "metadata": {
        "collapsed": false
      },
      "outputs": [],
      "source": [
        "scores, model = run_cross_validation(\n    X=X,\n    y=y,\n    data=data_diabetes,\n    preprocess=\"zscore\",\n    problem_type=\"regression\",\n    model=\"ridge\",\n    return_estimator=\"final\",\n    scoring=[\"neg_mean_absolute_error\", \"r2_corr\"],\n)"
      ]
    },
    {
      "cell_type": "markdown",
      "metadata": {},
      "source": [
        "Now the scores dataframe has all the values for each CV split, but two scores\nunders the column names ``\"test_neg_mean_absolute_error\"`` and\n``\"test_r2_corr\"``.\n\n"
      ]
    },
    {
      "cell_type": "code",
      "execution_count": null,
      "metadata": {
        "collapsed": false
      },
      "outputs": [],
      "source": [
        "print(scores[[\"test_neg_mean_absolute_error\", \"test_r2_corr\"]].mean())"
      ]
    },
    {
      "cell_type": "markdown",
      "metadata": {},
      "source": [
        "If we want to define a custom scoring metric, we need to define a function\nthat takes the predicted and the actual values as input and returns a value.\nIn this case, we want to compute Pearson correlation coefficient (r).\n\n"
      ]
    },
    {
      "cell_type": "code",
      "execution_count": null,
      "metadata": {
        "collapsed": false
      },
      "outputs": [],
      "source": [
        "def pearson_scorer(y_true, y_pred):\n    return scipy.stats.pearsonr(y_true.squeeze(), y_pred.squeeze())[0]"
      ]
    },
    {
      "cell_type": "markdown",
      "metadata": {},
      "source": [
        "Before using it, we need to convert it to a ``sklearn scorer`` and register it\nwith ``julearn``.\n\n"
      ]
    },
    {
      "cell_type": "code",
      "execution_count": null,
      "metadata": {
        "collapsed": false
      },
      "outputs": [],
      "source": [
        "register_scorer(scorer_name=\"pearsonr\", scorer=make_scorer(pearson_scorer))"
      ]
    },
    {
      "cell_type": "markdown",
      "metadata": {},
      "source": [
        "Now we can use it as another scoring metric.\n\n"
      ]
    },
    {
      "cell_type": "code",
      "execution_count": null,
      "metadata": {
        "collapsed": false
      },
      "outputs": [],
      "source": [
        "scores, model = run_cross_validation(\n    X=X,\n    y=y,\n    data=data_diabetes,\n    preprocess=\"zscore\",\n    problem_type=\"regression\",\n    model=\"ridge\",\n    return_estimator=\"final\",\n    scoring=[\"neg_mean_absolute_error\", \"r2_corr\", \"pearsonr\"],\n)"
      ]
    }
  ],
  "metadata": {
    "kernelspec": {
      "display_name": "Python 3",
      "language": "python",
      "name": "python3"
    },
    "language_info": {
      "codemirror_mode": {
        "name": "ipython",
        "version": 3
      },
      "file_extension": ".py",
      "mimetype": "text/x-python",
      "name": "python",
      "nbconvert_exporter": "python",
      "pygments_lexer": "ipython3",
      "version": "3.10.14"
    }
  },
  "nbformat": 4,
  "nbformat_minor": 0
}