{
  "cells": [
    {
      "cell_type": "markdown",
      "metadata": {},
      "source": [
        "\n# Grouped CV\n\nThis example uses the ``fMRI`` dataset and performs GroupKFold\nCross-Validation for classification using Random Forest Classifier.\n\n## References\n\n  Waskom, M.L., Frank, M.C., Wagner, A.D. (2016). Adaptive engagement of\n  cognitive control in context-dependent decision-making. Cerebral Cortex.\n\n.. include:: ../../links.inc\n"
      ]
    },
    {
      "cell_type": "code",
      "execution_count": null,
      "metadata": {
        "collapsed": false
      },
      "outputs": [],
      "source": [
        "# Authors: Federico Raimondo <f.raimondo@fz-juelich.de>\n#          Shammi More <s.more@fz-juelich.de>\n#          Kimia Nazarzadeh <k.nazarzadeh@fz-juelich.de>\n# License: AGPL\n\n# Importing the necessary Python libraries\nimport numpy as np\n\nfrom seaborn import load_dataset\nfrom sklearn.model_selection import GroupKFold, StratifiedGroupKFold\n\nfrom julearn.utils import configure_logging\nfrom julearn import run_cross_validation"
      ]
    },
    {
      "cell_type": "markdown",
      "metadata": {},
      "source": [
        "Set the logging level to info to see extra information\n\n"
      ]
    },
    {
      "cell_type": "code",
      "execution_count": null,
      "metadata": {
        "collapsed": false
      },
      "outputs": [],
      "source": [
        "configure_logging(level=\"INFO\")"
      ]
    },
    {
      "cell_type": "markdown",
      "metadata": {},
      "source": [
        "### Dealing with Cross-Validation techniques\n\n"
      ]
    },
    {
      "cell_type": "code",
      "execution_count": null,
      "metadata": {
        "collapsed": false
      },
      "outputs": [],
      "source": [
        "df_fmri = load_dataset(\"fmri\")"
      ]
    },
    {
      "cell_type": "markdown",
      "metadata": {},
      "source": [
        "First, lets get some information on what the dataset has:\n\n"
      ]
    },
    {
      "cell_type": "code",
      "execution_count": null,
      "metadata": {
        "collapsed": false
      },
      "outputs": [],
      "source": [
        "print(df_fmri.head())"
      ]
    },
    {
      "cell_type": "markdown",
      "metadata": {},
      "source": [
        "From this information, we can infer that it is an fMRI study in which there\nwere several subjects, timepoints, events and signal extracted from several\nbrain regions.\n\nLets check how many kinds of each we have.\n\n"
      ]
    },
    {
      "cell_type": "code",
      "execution_count": null,
      "metadata": {
        "collapsed": false
      },
      "outputs": [],
      "source": [
        "print(df_fmri[\"event\"].unique())\nprint(df_fmri[\"region\"].unique())\nprint(sorted(df_fmri[\"timepoint\"].unique()))\nprint(df_fmri[\"subject\"].unique())"
      ]
    },
    {
      "cell_type": "markdown",
      "metadata": {},
      "source": [
        "We have data from parietal and frontal regions during 2 types of events\n(*cue* and *stim*) during 18 timepoints and for 14 subjects.\nLets see how many samples we have for each condition\n\n"
      ]
    },
    {
      "cell_type": "code",
      "execution_count": null,
      "metadata": {
        "collapsed": false
      },
      "outputs": [],
      "source": [
        "print(df_fmri.groupby([\"subject\", \"timepoint\", \"event\", \"region\"]).count())\nprint(\n    np.unique(\n        df_fmri.groupby([\"subject\", \"timepoint\", \"event\", \"region\"])\n        .count()\n        .values\n    )\n)"
      ]
    },
    {
      "cell_type": "markdown",
      "metadata": {},
      "source": [
        "We have exactly one value per condition.\n\nLets try to build a model, that uses parietal and frontal signal to predicts\nwhether the event was a *cue* or a *stim*.\n\nFirst we define our X and y variables.\n\n"
      ]
    },
    {
      "cell_type": "code",
      "execution_count": null,
      "metadata": {
        "collapsed": false
      },
      "outputs": [],
      "source": [
        "X = [\"parietal\", \"frontal\"]\ny = \"event\""
      ]
    },
    {
      "cell_type": "markdown",
      "metadata": {},
      "source": [
        "In order for this to work, both *parietal* and *frontal* must be columns.\nWe need to *pivot* the table.\n\nThe values of *region* will be the columns. The column *signal* will be the\nvalues. And the columns *subject*, *timepoint* and *event* will be the index\n\n"
      ]
    },
    {
      "cell_type": "code",
      "execution_count": null,
      "metadata": {
        "collapsed": false
      },
      "outputs": [],
      "source": [
        "df_fmri = df_fmri.pivot(\n    index=[\"subject\", \"timepoint\", \"event\"], columns=\"region\", values=\"signal\"\n)\n\ndf_fmri = df_fmri.reset_index()"
      ]
    },
    {
      "cell_type": "markdown",
      "metadata": {},
      "source": [
        "Here we want to zscore all the features and then train a Support Vector\nMachine classifier.\n\n"
      ]
    },
    {
      "cell_type": "code",
      "execution_count": null,
      "metadata": {
        "collapsed": false
      },
      "outputs": [],
      "source": [
        "scores = run_cross_validation(\n    X=X,\n    y=y,\n    data=df_fmri,\n    preprocess=\"zscore\",\n    model=\"rf\",\n    problem_type=\"classification\",\n)\n\nprint(scores[\"test_score\"].mean())"
      ]
    },
    {
      "cell_type": "markdown",
      "metadata": {},
      "source": [
        "Train classification model with stratification on data\n\n"
      ]
    },
    {
      "cell_type": "code",
      "execution_count": null,
      "metadata": {
        "collapsed": false
      },
      "outputs": [],
      "source": [
        "cv_stratified = StratifiedGroupKFold(n_splits=2)\nscores, model = run_cross_validation(\n    X=X,\n    y=y,\n    data=df_fmri,\n    groups=\"subject\",\n    model=\"rf\",\n    problem_type=\"classification\",\n    cv=cv_stratified,\n    return_estimator=\"final\",\n)\n\nprint(scores[\"test_score\"].mean())"
      ]
    },
    {
      "cell_type": "markdown",
      "metadata": {},
      "source": [
        "Train classification model without stratification on data\n\n"
      ]
    },
    {
      "cell_type": "code",
      "execution_count": null,
      "metadata": {
        "collapsed": false
      },
      "outputs": [],
      "source": [
        "cv = GroupKFold(n_splits=2)\nscores, model = run_cross_validation(\n    X=X,\n    y=y,\n    data=df_fmri,\n    groups=\"subject\",\n    model=\"rf\",\n    problem_type=\"classification\",\n    cv=cv,\n    return_estimator=\"final\",\n)\n\nprint(scores[\"test_score\"].mean())"
      ]
    }
  ],
  "metadata": {
    "kernelspec": {
      "display_name": "Python 3",
      "language": "python",
      "name": "python3"
    },
    "language_info": {
      "codemirror_mode": {
        "name": "ipython",
        "version": 3
      },
      "file_extension": ".py",
      "mimetype": "text/x-python",
      "name": "python",
      "nbconvert_exporter": "python",
      "pygments_lexer": "ipython3",
      "version": "3.10.14"
    }
  },
  "nbformat": 4,
  "nbformat_minor": 0
}