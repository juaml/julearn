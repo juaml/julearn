{
  "cells": [
    {
      "cell_type": "markdown",
      "metadata": {},
      "source": [
        "\n# Tuning Multiple Hyperparameters Grids\n\nThis example uses the ``fmri`` dataset, performs simple binary classification\nusing a Support Vector Machine classifier while tuning multiple hyperparameters\ngrids at the same time.\n\n## References\n\n  Waskom, M.L., Frank, M.C., Wagner, A.D. (2016). Adaptive engagement of\n  cognitive control in context-dependent decision-making. Cerebral Cortex.\n\n.. include:: ../../links.inc\n"
      ]
    },
    {
      "cell_type": "code",
      "execution_count": null,
      "metadata": {
        "collapsed": false
      },
      "outputs": [],
      "source": [
        "# Authors: Federico Raimondo <f.raimondo@fz-juelich.de>\n# License: AGPL\n\nimport numpy as np\nfrom seaborn import load_dataset\n\nfrom julearn import run_cross_validation\nfrom julearn.utils import configure_logging\nfrom julearn.pipeline import PipelineCreator"
      ]
    },
    {
      "cell_type": "markdown",
      "metadata": {},
      "source": [
        "Set the logging level to info to see extra information.\n\n"
      ]
    },
    {
      "cell_type": "code",
      "execution_count": null,
      "metadata": {
        "collapsed": false
      },
      "outputs": [],
      "source": [
        "configure_logging(level=\"INFO\")"
      ]
    },
    {
      "cell_type": "markdown",
      "metadata": {},
      "source": [
        "Set the random seed to always have the same example.\n\n"
      ]
    },
    {
      "cell_type": "code",
      "execution_count": null,
      "metadata": {
        "collapsed": false
      },
      "outputs": [],
      "source": [
        "np.random.seed(42)"
      ]
    },
    {
      "cell_type": "markdown",
      "metadata": {},
      "source": [
        "Load the dataset.\n\n"
      ]
    },
    {
      "cell_type": "code",
      "execution_count": null,
      "metadata": {
        "collapsed": false
      },
      "outputs": [],
      "source": [
        "df_fmri = load_dataset(\"fmri\")\ndf_fmri.head()"
      ]
    },
    {
      "cell_type": "markdown",
      "metadata": {},
      "source": [
        "Set the dataframe in the right format.\n\n"
      ]
    },
    {
      "cell_type": "code",
      "execution_count": null,
      "metadata": {
        "collapsed": false
      },
      "outputs": [],
      "source": [
        "df_fmri = df_fmri.pivot(\n    index=[\"subject\", \"timepoint\", \"event\"], columns=\"region\", values=\"signal\"\n)\n\ndf_fmri = df_fmri.reset_index()\ndf_fmri.head()"
      ]
    },
    {
      "cell_type": "markdown",
      "metadata": {},
      "source": [
        "Lets do a first attempt and use a linear SVM with the default parameters.\n\n"
      ]
    },
    {
      "cell_type": "code",
      "execution_count": null,
      "metadata": {
        "collapsed": false
      },
      "outputs": [],
      "source": [
        "X = [\"frontal\", \"parietal\"]\ny = \"event\"\n\ncreator = PipelineCreator(problem_type=\"classification\")\ncreator.add(\"zscore\")\ncreator.add(\"svm\", kernel=\"linear\")\n\nscores = run_cross_validation(X=X, y=y, data=df_fmri, model=creator)\n\nprint(scores[\"test_score\"].mean())"
      ]
    },
    {
      "cell_type": "markdown",
      "metadata": {},
      "source": [
        "Now let's tune a bit this SVM. We will use a grid search to tune the\nregularization parameter ``C`` and the kernel. We will also tune the ``gamma``.\nBut since the ``gamma`` is only used for the rbf kernel, we will use a\ndifferent grid for the ``\"rbf\"`` kernel.\n\nTo specify two different sets of parameters for the same step, we can\nexplicitly specify the name of the step. This is done by passing the\n``name`` parameter to the ``add`` method.\n\n"
      ]
    },
    {
      "cell_type": "code",
      "execution_count": null,
      "metadata": {
        "collapsed": false
      },
      "outputs": [],
      "source": [
        "creator = PipelineCreator(problem_type=\"classification\")\ncreator.add(\"zscore\")\ncreator.add(\"svm\", kernel=\"linear\", C=[0.01, 0.1], name=\"svm\")\ncreator.add(\n    \"svm\",\n    kernel=\"rbf\",\n    C=[0.01, 0.1],\n    gamma=[\"scale\", \"auto\", 1e-2, 1e-3],\n    name=\"svm\",\n)\n\nsearch_params = {\n    \"kind\": \"grid\",\n    \"cv\": 2,  # to speed up the example\n}\n\nscores, estimator = run_cross_validation(\n    X=X,\n    y=y,\n    data=df_fmri,\n    model=creator,\n    search_params=search_params,\n    return_estimator=\"final\",\n)\n\nprint(scores[\"test_score\"].mean())"
      ]
    },
    {
      "cell_type": "markdown",
      "metadata": {},
      "source": [
        "It seems that we might have found a better model, but which one is it?\n\n"
      ]
    },
    {
      "cell_type": "code",
      "execution_count": null,
      "metadata": {
        "collapsed": false
      },
      "outputs": [],
      "source": [
        "print(estimator.best_params_)\nprint(estimator.best_estimator_[\"svm\"]._gamma)"
      ]
    }
  ],
  "metadata": {
    "kernelspec": {
      "display_name": "Python 3",
      "language": "python",
      "name": "python3"
    },
    "language_info": {
      "codemirror_mode": {
        "name": "ipython",
        "version": 3
      },
      "file_extension": ".py",
      "mimetype": "text/x-python",
      "name": "python",
      "nbconvert_exporter": "python",
      "pygments_lexer": "ipython3",
      "version": "3.10.14"
    }
  },
  "nbformat": 4,
  "nbformat_minor": 0
}