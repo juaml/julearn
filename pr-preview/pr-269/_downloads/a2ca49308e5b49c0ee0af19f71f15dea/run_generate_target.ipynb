{
  "cells": [
    {
      "cell_type": "markdown",
      "metadata": {},
      "source": [
        "\n# Target Generation\n\nThis example uses the ``iris`` dataset and tests a regression model in which\nthe target variable is generated from some features within the cross-validation\nprocedure. We will use the Iris dataset and generate a target variable using\nPCA on the petal features. Then, we will evaluate if a regression model can\npredict the generated target from the sepal features\n\n.. include:: ../../links.inc\n"
      ]
    },
    {
      "cell_type": "code",
      "execution_count": null,
      "metadata": {
        "collapsed": false
      },
      "outputs": [],
      "source": [
        "# Authors: Federico Raimondo <f.raimondo@fz-juelich.de>\n# License: AGPL\n\nfrom seaborn import load_dataset\nfrom julearn import run_cross_validation\nfrom julearn.pipeline import PipelineCreator\nfrom julearn.utils import configure_logging"
      ]
    },
    {
      "cell_type": "markdown",
      "metadata": {},
      "source": [
        "Set the logging level to info to see extra information.\n\n"
      ]
    },
    {
      "cell_type": "code",
      "execution_count": null,
      "metadata": {
        "collapsed": false
      },
      "outputs": [],
      "source": [
        "configure_logging(level=\"DEBUG\")"
      ]
    },
    {
      "cell_type": "code",
      "execution_count": null,
      "metadata": {
        "collapsed": false
      },
      "outputs": [],
      "source": [
        "df_iris = load_dataset(\"iris\")"
      ]
    },
    {
      "cell_type": "markdown",
      "metadata": {},
      "source": [
        "As features, we will use the sepal length, width and petal length.\nWe will try to predict the species.\n\n"
      ]
    },
    {
      "cell_type": "code",
      "execution_count": null,
      "metadata": {
        "collapsed": false
      },
      "outputs": [],
      "source": [
        "X = [\"sepal_length\", \"sepal_width\", \"petal_length\", \"petal_width\"]\ny = \"__generated__\"  # to indicate to julearn that the target will be generated\n\n\n# Define our feature types\nX_types = {\n    \"sepal\": [\"sepal_length\", \"sepal_width\"],\n    \"petal\": [\"petal_length\", \"petal_width\"],\n}"
      ]
    },
    {
      "cell_type": "markdown",
      "metadata": {},
      "source": [
        "We now use a Pipeline Creator to create the pipeline that will generate the\nfeatures. This special pipeline should be configured to be a \"transformer\"\nand apply to the \"petal\" feature types.\n\n"
      ]
    },
    {
      "cell_type": "code",
      "execution_count": null,
      "metadata": {
        "collapsed": false
      },
      "outputs": [],
      "source": [
        "target_creator = PipelineCreator(problem_type=\"transformer\", apply_to=\"petal\")\ntarget_creator.add(\"pca\", n_components=2)\n# Select only the first component\ntarget_creator.add(\"pick_columns\", keep=\"pca__pca0\")"
      ]
    },
    {
      "cell_type": "markdown",
      "metadata": {},
      "source": [
        "We now create the pipeline that will be used to predict the target. This\npipeline will be a regression pipeline. The step previous to the model should\nbe the the `generate_target`, applying to the \"petal\" features and using the\ntarget_creator pipeline as the transformer.\n\n"
      ]
    },
    {
      "cell_type": "code",
      "execution_count": null,
      "metadata": {
        "collapsed": false
      },
      "outputs": [],
      "source": [
        "creator = PipelineCreator(problem_type=\"regression\")\ncreator.add(\"zscore\", apply_to=\"*\")\ncreator.add(\"generate_target\", apply_to=\"petal\", transformer=target_creator)\ncreator.add(\"linreg\", apply_to=\"sepal\")"
      ]
    },
    {
      "cell_type": "markdown",
      "metadata": {},
      "source": [
        "We finally evaluate the model within the cross validation.\n\n"
      ]
    },
    {
      "cell_type": "code",
      "execution_count": null,
      "metadata": {
        "collapsed": false
      },
      "outputs": [],
      "source": [
        "scores, model = run_cross_validation(\n    X=X,\n    y=y,\n    X_types=X_types,\n    data=df_iris,\n    model=creator,\n    return_estimator=\"final\",\n    cv=2,\n)\n\nprint(scores[\"test_score\"])  # type: ignore"
      ]
    }
  ],
  "metadata": {
    "kernelspec": {
      "display_name": "Python 3",
      "language": "python",
      "name": "python3"
    },
    "language_info": {
      "codemirror_mode": {
        "name": "ipython",
        "version": 3
      },
      "file_extension": ".py",
      "mimetype": "text/x-python",
      "name": "python",
      "nbconvert_exporter": "python",
      "pygments_lexer": "ipython3",
      "version": "3.10.14"
    }
  },
  "nbformat": 4,
  "nbformat_minor": 0
}