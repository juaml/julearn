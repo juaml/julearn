{
  "cells": [
    {
      "cell_type": "markdown",
      "metadata": {},
      "source": [
        "\n# Stacking Classification\n\nThis example uses the ``iris`` dataset and performs a complex stacking\nclassification. We will use two different classifiers, one applied to petal\nfeatures and one applied to sepal features. A final logistic regression\nclassifier will be applied on the predictions of the two classifiers.\n\n.. include:: ../../links.inc\n"
      ]
    },
    {
      "cell_type": "code",
      "execution_count": null,
      "metadata": {
        "collapsed": false
      },
      "outputs": [],
      "source": [
        "# Authors: Federico Raimondo <f.raimondo@fz-juelich.de>\n# License: AGPL\n\nfrom seaborn import load_dataset\nfrom julearn import run_cross_validation\nfrom julearn.pipeline import PipelineCreator\nfrom julearn.utils import configure_logging"
      ]
    },
    {
      "cell_type": "markdown",
      "metadata": {},
      "source": [
        "Set the logging level to info to see extra information.\n\n"
      ]
    },
    {
      "cell_type": "code",
      "execution_count": null,
      "metadata": {
        "collapsed": false
      },
      "outputs": [],
      "source": [
        "configure_logging(level=\"INFO\")"
      ]
    },
    {
      "cell_type": "code",
      "execution_count": null,
      "metadata": {
        "collapsed": false
      },
      "outputs": [],
      "source": [
        "df_iris = load_dataset(\"iris\")"
      ]
    },
    {
      "cell_type": "markdown",
      "metadata": {},
      "source": [
        "The dataset has three kind of species. We will keep two to perform a binary\nclassification.\n\n"
      ]
    },
    {
      "cell_type": "code",
      "execution_count": null,
      "metadata": {
        "collapsed": false
      },
      "outputs": [],
      "source": [
        "df_iris = df_iris[df_iris[\"species\"].isin([\"versicolor\", \"virginica\"])]"
      ]
    },
    {
      "cell_type": "markdown",
      "metadata": {},
      "source": [
        "As features, we will use the sepal length, width and petal length.\nWe will try to predict the species.\n\n"
      ]
    },
    {
      "cell_type": "code",
      "execution_count": null,
      "metadata": {
        "collapsed": false
      },
      "outputs": [],
      "source": [
        "X = [\"sepal_length\", \"sepal_width\", \"petal_length\", \"petal_width\"]\ny = \"species\"\n\n# Define our feature types\nX_types = {\n    \"sepal\": [\"sepal_length\", \"sepal_width\"],\n    \"petal\": [\"petal_length\", \"petal_width\"],\n}\n\n# Create the pipeline for the sepal features, by default will apply to \"sepal\"\nmodel_sepal = PipelineCreator(problem_type=\"classification\", apply_to=\"sepal\")\nmodel_sepal.add(\"filter_columns\", apply_to=\"*\", keep=\"sepal\")\nmodel_sepal.add(\"zscore\")\nmodel_sepal.add(\"svm\")\n\n# Create the pipeline for the petal features, by default will apply to \"petal\"\nmodel_petal = PipelineCreator(problem_type=\"classification\", apply_to=\"petal\")\nmodel_petal.add(\"filter_columns\", apply_to=\"*\", keep=\"petal\")\nmodel_petal.add(\"zscore\")\nmodel_petal.add(\"rf\")\n\n# Create the stacking model\nmodel = PipelineCreator(problem_type=\"classification\")\nmodel.add(\n    \"stacking\",\n    estimators=[[(\"model_sepal\", model_sepal), (\"model_petal\", model_petal)]],\n    apply_to=\"*\",\n)\n\nscores = run_cross_validation(\n    X=X, y=y, X_types=X_types, data=df_iris, model=model\n)\n\nprint(scores[\"test_score\"])"
      ]
    }
  ],
  "metadata": {
    "kernelspec": {
      "display_name": "Python 3",
      "language": "python",
      "name": "python3"
    },
    "language_info": {
      "codemirror_mode": {
        "name": "ipython",
        "version": 3
      },
      "file_extension": ".py",
      "mimetype": "text/x-python",
      "name": "python",
      "nbconvert_exporter": "python",
      "pygments_lexer": "ipython3",
      "version": "3.10.14"
    }
  },
  "nbformat": 4,
  "nbformat_minor": 0
}